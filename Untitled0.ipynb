{
  "nbformat": 4,
  "nbformat_minor": 0,
  "metadata": {
    "colab": {
      "provenance": [],
      "authorship_tag": "ABX9TyNejFV45hK8g/4HRVBXMWgf",
      "include_colab_link": true
    },
    "kernelspec": {
      "name": "python3",
      "display_name": "Python 3"
    },
    "language_info": {
      "name": "python"
    }
  },
  "cells": [
    {
      "cell_type": "markdown",
      "metadata": {
        "id": "view-in-github",
        "colab_type": "text"
      },
      "source": [
        "<a href=\"https://colab.research.google.com/github/edanurcetin/hu-bby162-2024/blob/main/Untitled0.ipynb\" target=\"_parent\"><img src=\"https://colab.research.google.com/assets/colab-badge.svg\" alt=\"Open In Colab\"/></a>"
      ]
    },
    {
      "cell_type": "code",
      "source": [
        "eposta = \"E-posta: eda[@]nurcetin.net\"\n",
        "print(\"E-posta: \" + eposta )"
      ],
      "metadata": {
        "colab": {
          "base_uri": "https://localhost:8080/"
        },
        "id": "oo5pTpPRGisq",
        "outputId": "3f0cdcdc-0807-4f3a-a732-d068111ea5d2"
      },
      "execution_count": 3,
      "outputs": [
        {
          "output_type": "stream",
          "name": "stdout",
          "text": [
            "E-posta: E-posta: eda[@]nurcetin.net\n"
          ]
        }
      ]
    },
    {
      "cell_type": "code",
      "source": [
        "degisken_1 = \"ad-soyad\"\n",
        "print (degisken_1)"
      ],
      "metadata": {
        "colab": {
          "base_uri": "https://localhost:8080/"
        },
        "id": "6cSVdxCzI4UB",
        "outputId": "5aed79ad-eb44-41ae-e23b-8c625962bea7"
      },
      "execution_count": 4,
      "outputs": [
        {
          "output_type": "stream",
          "name": "stdout",
          "text": [
            "ad-soyad\n"
          ]
        }
      ]
    },
    {
      "cell_type": "code",
      "source": [
        "sayi = 3.5\n",
        "print(type(sayi))\n",
        "print(sayi)\n",
        "sayi = int(sayi)\n",
        "print(type (sayi))\n",
        "print(sayi)\n",
        "sayi = float(sayi)\n",
        "print(type(sayi))\n",
        "print(sayi)\n",
        "sayi = str(sayi)\n",
        "print(type(sayi))\n",
        "print(sayi)"
      ],
      "metadata": {
        "colab": {
          "base_uri": "https://localhost:8080/"
        },
        "id": "VK_caO16L9pc",
        "outputId": "2313f0ce-6ba0-463b-9d92-7592667df952"
      },
      "execution_count": 5,
      "outputs": [
        {
          "output_type": "stream",
          "name": "stdout",
          "text": [
            "<class 'float'>\n",
            "3.5\n",
            "<class 'int'>\n",
            "3\n",
            "<class 'float'>\n",
            "3.0\n",
            "<class 'str'>\n",
            "3.0\n"
          ]
        }
      ]
    }
  ]
}